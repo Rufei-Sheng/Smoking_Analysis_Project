{
 "cells": [
  {
   "cell_type": "code",
   "execution_count": 125,
   "metadata": {},
   "outputs": [],
   "source": [
    "import pandas as pd\n",
    "import numpy as np\n",
    "from sklearn.ensemble import RandomForestClassifier\n",
    "import matplotlib.pyplot as plt\n",
    "from sklearn.metrics import confusion_matrix\n",
    "from sklearn.metrics import mean_squared_error\n",
    "from tabulate import tabulate\n",
    "\n",
    "\n",
    "% matplotlib inline\n"
   ]
  },
  {
   "cell_type": "markdown",
   "metadata": {},
   "source": [
    "### Data Cleaning (2008 data)"
   ]
  },
  {
   "cell_type": "code",
   "execution_count": 5,
   "metadata": {
    "scrolled": false
   },
   "outputs": [
    {
     "name": "stderr",
     "output_type": "stream",
     "text": [
      "/Users/A123/anaconda3/lib/python3.6/site-packages/IPython/core/interactiveshell.py:2785: DtypeWarning: Columns (12,107,108) have mixed types. Specify dtype option on import or set low_memory=False.\n",
      "  interactivity=interactivity, compiler=compiler, result=result)\n"
     ]
    },
    {
     "data": {
      "text/html": [
       "<div>\n",
       "<style scoped>\n",
       "    .dataframe tbody tr th:only-of-type {\n",
       "        vertical-align: middle;\n",
       "    }\n",
       "\n",
       "    .dataframe tbody tr th {\n",
       "        vertical-align: top;\n",
       "    }\n",
       "\n",
       "    .dataframe thead th {\n",
       "        text-align: right;\n",
       "    }\n",
       "</style>\n",
       "<table border=\"1\" class=\"dataframe\">\n",
       "  <thead>\n",
       "    <tr style=\"text-align: right;\">\n",
       "      <th></th>\n",
       "      <th>Unnamed: 0</th>\n",
       "      <th>x.state</th>\n",
       "      <th>x.geostr</th>\n",
       "      <th>x.denstr2</th>\n",
       "      <th>precall</th>\n",
       "      <th>repnum</th>\n",
       "      <th>repdepth</th>\n",
       "      <th>fmonth</th>\n",
       "      <th>idate</th>\n",
       "      <th>imonth</th>\n",
       "      <th>...</th>\n",
       "      <th>x.csexg.</th>\n",
       "      <th>x.craceg.</th>\n",
       "      <th>x.cageg.</th>\n",
       "      <th>x.rawch</th>\n",
       "      <th>x.wt2ch</th>\n",
       "      <th>x.postch</th>\n",
       "      <th>x.rawhh</th>\n",
       "      <th>x.wt2hh</th>\n",
       "      <th>x.posthh</th>\n",
       "      <th>x.housewt</th>\n",
       "    </tr>\n",
       "  </thead>\n",
       "  <tbody>\n",
       "    <tr>\n",
       "      <th>0</th>\n",
       "      <td>1</td>\n",
       "      <td>1</td>\n",
       "      <td>1</td>\n",
       "      <td>1</td>\n",
       "      <td>1</td>\n",
       "      <td>1001</td>\n",
       "      <td>12</td>\n",
       "      <td>1</td>\n",
       "      <td>1022008</td>\n",
       "      <td>1</td>\n",
       "      <td>...</td>\n",
       "      <td>NaN</td>\n",
       "      <td>NaN</td>\n",
       "      <td>NaN</td>\n",
       "      <td>NaN</td>\n",
       "      <td>NaN</td>\n",
       "      <td>NaN</td>\n",
       "      <td>1.0</td>\n",
       "      <td>54.331675</td>\n",
       "      <td>4.695688</td>\n",
       "      <td>255.12457</td>\n",
       "    </tr>\n",
       "    <tr>\n",
       "      <th>1</th>\n",
       "      <td>2</td>\n",
       "      <td>1</td>\n",
       "      <td>1</td>\n",
       "      <td>1</td>\n",
       "      <td>1</td>\n",
       "      <td>1001</td>\n",
       "      <td>16</td>\n",
       "      <td>1</td>\n",
       "      <td>1022008</td>\n",
       "      <td>1</td>\n",
       "      <td>...</td>\n",
       "      <td>NaN</td>\n",
       "      <td>NaN</td>\n",
       "      <td>NaN</td>\n",
       "      <td>NaN</td>\n",
       "      <td>NaN</td>\n",
       "      <td>NaN</td>\n",
       "      <td>1.0</td>\n",
       "      <td>54.331675</td>\n",
       "      <td>4.695688</td>\n",
       "      <td>255.12457</td>\n",
       "    </tr>\n",
       "    <tr>\n",
       "      <th>2</th>\n",
       "      <td>3</td>\n",
       "      <td>1</td>\n",
       "      <td>1</td>\n",
       "      <td>1</td>\n",
       "      <td>1</td>\n",
       "      <td>1001</td>\n",
       "      <td>19</td>\n",
       "      <td>1</td>\n",
       "      <td>1142008</td>\n",
       "      <td>1</td>\n",
       "      <td>...</td>\n",
       "      <td>NaN</td>\n",
       "      <td>NaN</td>\n",
       "      <td>NaN</td>\n",
       "      <td>NaN</td>\n",
       "      <td>NaN</td>\n",
       "      <td>NaN</td>\n",
       "      <td>1.0</td>\n",
       "      <td>54.331675</td>\n",
       "      <td>4.695688</td>\n",
       "      <td>255.12457</td>\n",
       "    </tr>\n",
       "    <tr>\n",
       "      <th>3</th>\n",
       "      <td>4</td>\n",
       "      <td>1</td>\n",
       "      <td>1</td>\n",
       "      <td>1</td>\n",
       "      <td>1</td>\n",
       "      <td>1001</td>\n",
       "      <td>30</td>\n",
       "      <td>1</td>\n",
       "      <td>1022008</td>\n",
       "      <td>1</td>\n",
       "      <td>...</td>\n",
       "      <td>NaN</td>\n",
       "      <td>NaN</td>\n",
       "      <td>NaN</td>\n",
       "      <td>NaN</td>\n",
       "      <td>NaN</td>\n",
       "      <td>NaN</td>\n",
       "      <td>1.0</td>\n",
       "      <td>54.331675</td>\n",
       "      <td>4.695688</td>\n",
       "      <td>255.12457</td>\n",
       "    </tr>\n",
       "    <tr>\n",
       "      <th>4</th>\n",
       "      <td>5</td>\n",
       "      <td>1</td>\n",
       "      <td>1</td>\n",
       "      <td>1</td>\n",
       "      <td>1</td>\n",
       "      <td>1002</td>\n",
       "      <td>1</td>\n",
       "      <td>1</td>\n",
       "      <td>1072008</td>\n",
       "      <td>1</td>\n",
       "      <td>...</td>\n",
       "      <td>NaN</td>\n",
       "      <td>NaN</td>\n",
       "      <td>NaN</td>\n",
       "      <td>NaN</td>\n",
       "      <td>NaN</td>\n",
       "      <td>NaN</td>\n",
       "      <td>1.0</td>\n",
       "      <td>54.331675</td>\n",
       "      <td>4.695688</td>\n",
       "      <td>255.12457</td>\n",
       "    </tr>\n",
       "  </tbody>\n",
       "</table>\n",
       "<p>5 rows × 292 columns</p>\n",
       "</div>"
      ],
      "text/plain": [
       "   Unnamed: 0  x.state  x.geostr  x.denstr2  precall  repnum  repdepth  \\\n",
       "0           1        1         1          1        1    1001        12   \n",
       "1           2        1         1          1        1    1001        16   \n",
       "2           3        1         1          1        1    1001        19   \n",
       "3           4        1         1          1        1    1001        30   \n",
       "4           5        1         1          1        1    1002         1   \n",
       "\n",
       "   fmonth    idate  imonth    ...      x.csexg.  x.craceg. x.cageg.  x.rawch  \\\n",
       "0       1  1022008       1    ...           NaN        NaN      NaN      NaN   \n",
       "1       1  1022008       1    ...           NaN        NaN      NaN      NaN   \n",
       "2       1  1142008       1    ...           NaN        NaN      NaN      NaN   \n",
       "3       1  1022008       1    ...           NaN        NaN      NaN      NaN   \n",
       "4       1  1072008       1    ...           NaN        NaN      NaN      NaN   \n",
       "\n",
       "   x.wt2ch  x.postch  x.rawhh    x.wt2hh  x.posthh  x.housewt  \n",
       "0      NaN       NaN      1.0  54.331675  4.695688  255.12457  \n",
       "1      NaN       NaN      1.0  54.331675  4.695688  255.12457  \n",
       "2      NaN       NaN      1.0  54.331675  4.695688  255.12457  \n",
       "3      NaN       NaN      1.0  54.331675  4.695688  255.12457  \n",
       "4      NaN       NaN      1.0  54.331675  4.695688  255.12457  \n",
       "\n",
       "[5 rows x 292 columns]"
      ]
     },
     "execution_count": 5,
     "metadata": {},
     "output_type": "execute_result"
    }
   ],
   "source": [
    "smoke08 = pd.read_csv('CDBRFS08.csv')\n",
    "smoke08.head()"
   ]
  },
  {
   "cell_type": "code",
   "execution_count": null,
   "metadata": {},
   "outputs": [],
   "source": [
    "#import pprint\n",
    "#pprint.pprint(list(smoke08.columns))"
   ]
  },
  {
   "cell_type": "code",
   "execution_count": 47,
   "metadata": {
    "scrolled": false
   },
   "outputs": [
    {
     "name": "stderr",
     "output_type": "stream",
     "text": [
      "/Users/A123/anaconda3/lib/python3.6/site-packages/pandas/core/frame.py:3778: SettingWithCopyWarning: \n",
      "A value is trying to be set on a copy of a slice from a DataFrame\n",
      "\n",
      "See the caveats in the documentation: http://pandas.pydata.org/pandas-docs/stable/indexing.html#indexing-view-versus-copy\n",
      "  return super(DataFrame, self).rename(**kwargs)\n"
     ]
    },
    {
     "data": {
      "text/html": [
       "<div>\n",
       "<style scoped>\n",
       "    .dataframe tbody tr th:only-of-type {\n",
       "        vertical-align: middle;\n",
       "    }\n",
       "\n",
       "    .dataframe tbody tr th {\n",
       "        vertical-align: top;\n",
       "    }\n",
       "\n",
       "    .dataframe thead th {\n",
       "        text-align: right;\n",
       "    }\n",
       "</style>\n",
       "<table border=\"1\" class=\"dataframe\">\n",
       "  <thead>\n",
       "    <tr style=\"text-align: right;\">\n",
       "      <th></th>\n",
       "      <th>smoke_status</th>\n",
       "      <th>routine_checkup</th>\n",
       "      <th>state</th>\n",
       "      <th>age</th>\n",
       "      <th>sex</th>\n",
       "      <th>income</th>\n",
       "    </tr>\n",
       "  </thead>\n",
       "  <tbody>\n",
       "    <tr>\n",
       "      <th>0</th>\n",
       "      <td>1</td>\n",
       "      <td>1</td>\n",
       "      <td>1</td>\n",
       "      <td>82</td>\n",
       "      <td>2</td>\n",
       "      <td>1</td>\n",
       "    </tr>\n",
       "    <tr>\n",
       "      <th>1</th>\n",
       "      <td>1</td>\n",
       "      <td>3</td>\n",
       "      <td>1</td>\n",
       "      <td>65</td>\n",
       "      <td>2</td>\n",
       "      <td>1</td>\n",
       "    </tr>\n",
       "    <tr>\n",
       "      <th>2</th>\n",
       "      <td>2</td>\n",
       "      <td>7</td>\n",
       "      <td>1</td>\n",
       "      <td>48</td>\n",
       "      <td>2</td>\n",
       "      <td>9</td>\n",
       "    </tr>\n",
       "    <tr>\n",
       "      <th>3</th>\n",
       "      <td>1</td>\n",
       "      <td>3</td>\n",
       "      <td>1</td>\n",
       "      <td>61</td>\n",
       "      <td>1</td>\n",
       "      <td>5</td>\n",
       "    </tr>\n",
       "    <tr>\n",
       "      <th>4</th>\n",
       "      <td>1</td>\n",
       "      <td>4</td>\n",
       "      <td>1</td>\n",
       "      <td>26</td>\n",
       "      <td>1</td>\n",
       "      <td>5</td>\n",
       "    </tr>\n",
       "  </tbody>\n",
       "</table>\n",
       "</div>"
      ],
      "text/plain": [
       "   smoke_status  routine_checkup  state  age  sex  income\n",
       "0             1                1      1   82    2       1\n",
       "1             1                3      1   65    2       1\n",
       "2             2                7      1   48    2       9\n",
       "3             1                3      1   61    1       5\n",
       "4             1                4      1   26    1       5"
      ]
     },
     "execution_count": 47,
     "metadata": {},
     "output_type": "execute_result"
    }
   ],
   "source": [
    "smoke08sub = smoke08[['x.rfsmok3', 'checkup1', 'x.state', 'age', 'sex', 'x.incomg']]\n",
    "smoke08sub.rename(columns={'x.rfsmok3':'smoke_status', 'checkup1':'routine_checkup', \n",
    "                           'x.state':'state', 'x.incomg':'income'}, inplace=True)\n",
    "smoke08sub.head()"
   ]
  },
  {
   "cell_type": "code",
   "execution_count": 57,
   "metadata": {
    "scrolled": true
   },
   "outputs": [
    {
     "data": {
      "text/plain": [
       "(357353, 6)"
      ]
     },
     "execution_count": 57,
     "metadata": {},
     "output_type": "execute_result"
    }
   ],
   "source": [
    "smoke08sub.shape"
   ]
  },
  {
   "cell_type": "code",
   "execution_count": 49,
   "metadata": {},
   "outputs": [
    {
     "data": {
      "text/html": [
       "<div>\n",
       "<style scoped>\n",
       "    .dataframe tbody tr th:only-of-type {\n",
       "        vertical-align: middle;\n",
       "    }\n",
       "\n",
       "    .dataframe tbody tr th {\n",
       "        vertical-align: top;\n",
       "    }\n",
       "\n",
       "    .dataframe thead th {\n",
       "        text-align: right;\n",
       "    }\n",
       "</style>\n",
       "<table border=\"1\" class=\"dataframe\">\n",
       "  <thead>\n",
       "    <tr style=\"text-align: right;\">\n",
       "      <th></th>\n",
       "      <th>smoke_status</th>\n",
       "      <th>routine_checkup</th>\n",
       "      <th>state</th>\n",
       "      <th>age</th>\n",
       "      <th>sex</th>\n",
       "      <th>income</th>\n",
       "    </tr>\n",
       "  </thead>\n",
       "  <tbody>\n",
       "    <tr>\n",
       "      <th>0</th>\n",
       "      <td>1</td>\n",
       "      <td>1</td>\n",
       "      <td>1</td>\n",
       "      <td>82</td>\n",
       "      <td>2</td>\n",
       "      <td>1</td>\n",
       "    </tr>\n",
       "    <tr>\n",
       "      <th>1</th>\n",
       "      <td>1</td>\n",
       "      <td>3</td>\n",
       "      <td>1</td>\n",
       "      <td>65</td>\n",
       "      <td>2</td>\n",
       "      <td>1</td>\n",
       "    </tr>\n",
       "    <tr>\n",
       "      <th>3</th>\n",
       "      <td>1</td>\n",
       "      <td>3</td>\n",
       "      <td>1</td>\n",
       "      <td>61</td>\n",
       "      <td>1</td>\n",
       "      <td>5</td>\n",
       "    </tr>\n",
       "    <tr>\n",
       "      <th>4</th>\n",
       "      <td>1</td>\n",
       "      <td>4</td>\n",
       "      <td>1</td>\n",
       "      <td>26</td>\n",
       "      <td>1</td>\n",
       "      <td>5</td>\n",
       "    </tr>\n",
       "    <tr>\n",
       "      <th>5</th>\n",
       "      <td>1</td>\n",
       "      <td>1</td>\n",
       "      <td>1</td>\n",
       "      <td>42</td>\n",
       "      <td>1</td>\n",
       "      <td>5</td>\n",
       "    </tr>\n",
       "  </tbody>\n",
       "</table>\n",
       "</div>"
      ],
      "text/plain": [
       "   smoke_status  routine_checkup  state  age  sex  income\n",
       "0             1                1      1   82    2       1\n",
       "1             1                3      1   65    2       1\n",
       "3             1                3      1   61    1       5\n",
       "4             1                4      1   26    1       5\n",
       "5             1                1      1   42    1       5"
      ]
     },
     "execution_count": 49,
     "metadata": {},
     "output_type": "execute_result"
    }
   ],
   "source": [
    "smoke08sub = smoke08sub.replace({8:5})\n",
    "smoke08sub = smoke08sub[(smoke08sub['routine_checkup']<6) & (smoke08sub['income']<6)]   \n",
    "smoke08sub.head()"
   ]
  },
  {
   "cell_type": "markdown",
   "metadata": {},
   "source": [
    "Note: Data Dictionary:\n",
    "* Label:\n",
    "    * smoke_status: Adults who are current smokers\n",
    "            1:NO\n",
    "            2:YES\n",
    "        \n",
    "* Features:\n",
    "    * routine_checkup: how long has it been since you last visited a doctor for a routine checkup\n",
    "            1: Within past year (anytime less than 12 months ago)\n",
    "            2: Within past 2 years (1 year but less than 2 years ago)\n",
    "            3: Within past 5 years (2 years but less than 5 years ago)\n",
    "            4: 5 or more years ago\n",
    "            7: Don’t know/Not sure\n",
    "            8: Never\n",
    "            9: Refused\n",
    "    * x.state: State FIPS Code \n",
    "    * age\n",
    "    * sex:\n",
    "            1: Male\n",
    "            2: Female\n",
    "    * x.incomg: INCOME CATEGORY\n",
    "            1: Less than $15,000\n",
    "            2: $15,000 to less than $25,000\n",
    "            3: $25,000 to less than $35,000\n",
    "            4: $35,000 to less than $50,000\n",
    "            5: $50,000 or more\n",
    "            9: Don’t know/Not sure/Missing"
   ]
  },
  {
   "cell_type": "code",
   "execution_count": 74,
   "metadata": {
    "scrolled": true
   },
   "outputs": [
    {
     "data": {
      "text/html": [
       "<div>\n",
       "<style scoped>\n",
       "    .dataframe tbody tr th:only-of-type {\n",
       "        vertical-align: middle;\n",
       "    }\n",
       "\n",
       "    .dataframe tbody tr th {\n",
       "        vertical-align: top;\n",
       "    }\n",
       "\n",
       "    .dataframe thead th {\n",
       "        text-align: right;\n",
       "    }\n",
       "</style>\n",
       "<table border=\"1\" class=\"dataframe\">\n",
       "  <thead>\n",
       "    <tr style=\"text-align: right;\">\n",
       "      <th></th>\n",
       "      <th>smoke_status</th>\n",
       "      <th>routine_checkup</th>\n",
       "      <th>state</th>\n",
       "      <th>age</th>\n",
       "      <th>sex</th>\n",
       "      <th>income</th>\n",
       "    </tr>\n",
       "  </thead>\n",
       "  <tbody>\n",
       "    <tr>\n",
       "      <th>0</th>\n",
       "      <td>1</td>\n",
       "      <td>1</td>\n",
       "      <td>1</td>\n",
       "      <td>82</td>\n",
       "      <td>2</td>\n",
       "      <td>1</td>\n",
       "    </tr>\n",
       "    <tr>\n",
       "      <th>1</th>\n",
       "      <td>1</td>\n",
       "      <td>3</td>\n",
       "      <td>1</td>\n",
       "      <td>65</td>\n",
       "      <td>2</td>\n",
       "      <td>1</td>\n",
       "    </tr>\n",
       "    <tr>\n",
       "      <th>3</th>\n",
       "      <td>1</td>\n",
       "      <td>3</td>\n",
       "      <td>1</td>\n",
       "      <td>61</td>\n",
       "      <td>1</td>\n",
       "      <td>5</td>\n",
       "    </tr>\n",
       "    <tr>\n",
       "      <th>4</th>\n",
       "      <td>1</td>\n",
       "      <td>4</td>\n",
       "      <td>1</td>\n",
       "      <td>26</td>\n",
       "      <td>1</td>\n",
       "      <td>5</td>\n",
       "    </tr>\n",
       "    <tr>\n",
       "      <th>5</th>\n",
       "      <td>1</td>\n",
       "      <td>1</td>\n",
       "      <td>1</td>\n",
       "      <td>42</td>\n",
       "      <td>1</td>\n",
       "      <td>5</td>\n",
       "    </tr>\n",
       "  </tbody>\n",
       "</table>\n",
       "</div>"
      ],
      "text/plain": [
       "   smoke_status  routine_checkup  state  age  sex  income\n",
       "0             1                1      1   82    2       1\n",
       "1             1                3      1   65    2       1\n",
       "3             1                3      1   61    1       5\n",
       "4             1                4      1   26    1       5\n",
       "5             1                1      1   42    1       5"
      ]
     },
     "execution_count": 74,
     "metadata": {},
     "output_type": "execute_result"
    }
   ],
   "source": [
    "smoke08sub.head()"
   ]
  },
  {
   "cell_type": "code",
   "execution_count": 79,
   "metadata": {},
   "outputs": [
    {
     "name": "stderr",
     "output_type": "stream",
     "text": [
      "/Users/A123/anaconda3/lib/python3.6/site-packages/ipykernel_launcher.py:1: FutureWarning: pandas.scatter_matrix is deprecated, use pandas.plotting.scatter_matrix instead\n",
      "  \"\"\"Entry point for launching an IPython kernel.\n"
     ]
    },
    {
     "data": {
      "image/png": "[encoded data removed]",
      "text/plain": [
       "<Figure size 720x720 with 36 Axes>"
      ]
     },
     "metadata": {},
     "output_type": "display_data"
    }
   ],
   "source": [
    "matrix = pd.scatter_matrix(smoke08sub, s=30, figsize=(10,10), diagonal='kde')"
   ]
  },
  {
   "cell_type": "code",
   "execution_count": 81,
   "metadata": {},
   "outputs": [],
   "source": [
    "smoke = smoke08sub[smoke08sub['smoke_status']==2]\n",
    "nonsmoke = smoke08sub[smoke08sub['smoke_status']==1]"
   ]
  },
  {
   "cell_type": "markdown",
   "metadata": {},
   "source": [
    "### Get fitted algorithm using true data before intervention"
   ]
  },
  {
   "cell_type": "code",
   "execution_count": 59,
   "metadata": {},
   "outputs": [
    {
     "name": "stderr",
     "output_type": "stream",
     "text": [
      "/Users/A123/anaconda3/lib/python3.6/site-packages/ipykernel_launcher.py:1: FutureWarning: Method .as_matrix will be removed in a future version. Use .values instead.\n",
      "  \"\"\"Entry point for launching an IPython kernel.\n",
      "/Users/A123/anaconda3/lib/python3.6/site-packages/ipykernel_launcher.py:2: FutureWarning: Method .as_matrix will be removed in a future version. Use .values instead.\n",
      "  \n"
     ]
    },
    {
     "data": {
      "text/plain": [
       "RandomForestClassifier(bootstrap=True, class_weight=None, criterion='gini',\n",
       "            max_depth=None, max_features='auto', max_leaf_nodes=None,\n",
       "            min_impurity_decrease=0.0, min_impurity_split=None,\n",
       "            min_samples_leaf=1, min_samples_split=2,\n",
       "            min_weight_fraction_leaf=0.0, n_estimators=100, n_jobs=1,\n",
       "            oob_score=False, random_state=None, verbose=0,\n",
       "            warm_start=False)"
      ]
     },
     "execution_count": 59,
     "metadata": {},
     "output_type": "execute_result"
    }
   ],
   "source": [
    "ytrain = smoke08sub['smoke_status'].as_matrix(columns=None).astype(int)\n",
    "xtrain = smoke08sub[['routine_checkup', 'state', 'age', 'sex', 'income']].as_matrix(columns=None).astype(int)\n",
    "rf = RandomForestClassifier(n_estimators=100)\n",
    "rf.fit(xtarin, ytrain)"
   ]
  },
  {
   "cell_type": "markdown",
   "metadata": {},
   "source": [
    "### create fake dataframe by sampling with replacement\n",
    "        * The interest feature here is 'routine_checkup'"
   ]
  },
  {
   "cell_type": "code",
   "execution_count": 63,
   "metadata": {},
   "outputs": [
    {
     "data": {
      "text/plain": [
       "array([[ 1,  1, 82,  2,  1],\n",
       "       [ 3,  1, 65,  2,  1],\n",
       "       [ 3,  1, 61,  1,  5],\n",
       "       ...,\n",
       "       [ 1, 78, 45,  1,  2],\n",
       "       [ 1, 78, 52,  2,  5],\n",
       "       [ 1, 78, 38,  1,  2]])"
      ]
     },
     "execution_count": 63,
     "metadata": {},
     "output_type": "execute_result"
    }
   ],
   "source": [
    "xtrain"
   ]
  },
  {
   "cell_type": "code",
   "execution_count": 64,
   "metadata": {},
   "outputs": [],
   "source": [
    "np.random.seed(2018)\n",
    "size = 300000\n",
    "a0 = np.random.randint(0, max(smoke08sub['routine_checkup'])+1, size=size) #random generate routine_checkup\n",
    "a1 = np.random.choice(xtarin[:size, 1], size=size, replace=True, p=None) #state\n",
    "a2 = np.random.choice(xtarin[:size, 2], size=size, replace=True, p=None) #age\n",
    "a3 = np.random.choice(xtarin[:size, 3], size=size, replace=True, p=None) #sex\n",
    "a4 = np.random.choice(xtarin[:size, 4], size=size, replace=True, p=None) #income"
   ]
  },
  {
   "cell_type": "code",
   "execution_count": 67,
   "metadata": {},
   "outputs": [],
   "source": [
    "simulated = pd.DataFrame(data=[a0, a1, a2, a3, a4])\n",
    "xtest = np.transpose(simulated)"
   ]
  },
  {
   "cell_type": "markdown",
   "metadata": {},
   "source": [
    "### Push simulated data to fitted algorithm, get conterfactual data"
   ]
  },
  {
   "cell_type": "code",
   "execution_count": 68,
   "metadata": {},
   "outputs": [],
   "source": [
    "#conterfactual smoking status\n",
    "ytest = rf.predict(xtest)"
   ]
  },
  {
   "cell_type": "code",
   "execution_count": 69,
   "metadata": {
    "scrolled": true
   },
   "outputs": [
    {
     "data": {
      "text/plain": [
       "array([1, 2, 1, ..., 1, 2, 1])"
      ]
     },
     "execution_count": 69,
     "metadata": {},
     "output_type": "execute_result"
    }
   ],
   "source": [
    "ytest"
   ]
  },
  {
   "cell_type": "markdown",
   "metadata": {},
   "source": [
    "### Get the true smoking status in 2010"
   ]
  },
  {
   "cell_type": "code",
   "execution_count": 84,
   "metadata": {
    "scrolled": true
   },
   "outputs": [
    {
     "name": "stderr",
     "output_type": "stream",
     "text": [
      "/Users/A123/anaconda3/lib/python3.6/site-packages/IPython/core/interactiveshell.py:2785: DtypeWarning: Columns (12,53,389) have mixed types. Specify dtype option on import or set low_memory=False.\n",
      "  interactivity=interactivity, compiler=compiler, result=result)\n"
     ]
    }
   ],
   "source": [
    "smoke10 = pd.read_csv('CDBRFS10.csv', encoding='ISO-8859-1', error_bad_lines=False)"
   ]
  },
  {
   "cell_type": "code",
   "execution_count": 85,
   "metadata": {},
   "outputs": [
    {
     "data": {
      "text/html": [
       "<div>\n",
       "<style scoped>\n",
       "    .dataframe tbody tr th:only-of-type {\n",
       "        vertical-align: middle;\n",
       "    }\n",
       "\n",
       "    .dataframe tbody tr th {\n",
       "        vertical-align: top;\n",
       "    }\n",
       "\n",
       "    .dataframe thead th {\n",
       "        text-align: right;\n",
       "    }\n",
       "</style>\n",
       "<table border=\"1\" class=\"dataframe\">\n",
       "  <thead>\n",
       "    <tr style=\"text-align: right;\">\n",
       "      <th></th>\n",
       "      <th>Unnamed: 0</th>\n",
       "      <th>x.state</th>\n",
       "      <th>x.geostr</th>\n",
       "      <th>x.denstr2</th>\n",
       "      <th>precall</th>\n",
       "      <th>repnum</th>\n",
       "      <th>repdepth</th>\n",
       "      <th>fmonth</th>\n",
       "      <th>idate</th>\n",
       "      <th>imonth</th>\n",
       "      <th>...</th>\n",
       "      <th>x.aidtst2</th>\n",
       "      <th>cpcounty</th>\n",
       "      <th>x.itscf1</th>\n",
       "      <th>x.itscf2</th>\n",
       "      <th>x.itspost</th>\n",
       "      <th>x.itsfinl</th>\n",
       "      <th>x.rawhh</th>\n",
       "      <th>x.wt2hh</th>\n",
       "      <th>x.posthh</th>\n",
       "      <th>x.housewt</th>\n",
       "    </tr>\n",
       "  </thead>\n",
       "  <tbody>\n",
       "    <tr>\n",
       "      <th>0</th>\n",
       "      <td>1</td>\n",
       "      <td>1</td>\n",
       "      <td>9</td>\n",
       "      <td>2</td>\n",
       "      <td>1</td>\n",
       "      <td>120127</td>\n",
       "      <td>25</td>\n",
       "      <td>12</td>\n",
       "      <td>12302010</td>\n",
       "      <td>12</td>\n",
       "      <td>...</td>\n",
       "      <td>NaN</td>\n",
       "      <td>CLARKE3</td>\n",
       "      <td>3.351137e+06</td>\n",
       "      <td>88.799712</td>\n",
       "      <td>0.547504</td>\n",
       "      <td>48.618238</td>\n",
       "      <td>0.333333</td>\n",
       "      <td>18.012420</td>\n",
       "      <td>5.472875</td>\n",
       "      <td>98.579718</td>\n",
       "    </tr>\n",
       "    <tr>\n",
       "      <th>1</th>\n",
       "      <td>2</td>\n",
       "      <td>1</td>\n",
       "      <td>13</td>\n",
       "      <td>1</td>\n",
       "      <td>1</td>\n",
       "      <td>10170</td>\n",
       "      <td>26</td>\n",
       "      <td>1</td>\n",
       "      <td>2022010</td>\n",
       "      <td>2</td>\n",
       "      <td>...</td>\n",
       "      <td>NaN</td>\n",
       "      <td>colbert</td>\n",
       "      <td>3.351137e+06</td>\n",
       "      <td>326.702003</td>\n",
       "      <td>0.745529</td>\n",
       "      <td>243.565788</td>\n",
       "      <td>1.000000</td>\n",
       "      <td>33.134644</td>\n",
       "      <td>5.473992</td>\n",
       "      <td>181.378775</td>\n",
       "    </tr>\n",
       "    <tr>\n",
       "      <th>2</th>\n",
       "      <td>3</td>\n",
       "      <td>1</td>\n",
       "      <td>17</td>\n",
       "      <td>2</td>\n",
       "      <td>1</td>\n",
       "      <td>80197</td>\n",
       "      <td>23</td>\n",
       "      <td>8</td>\n",
       "      <td>8182010</td>\n",
       "      <td>8</td>\n",
       "      <td>...</td>\n",
       "      <td>NaN</td>\n",
       "      <td>housaton</td>\n",
       "      <td>3.351137e+06</td>\n",
       "      <td>189.479657</td>\n",
       "      <td>1.242380</td>\n",
       "      <td>235.405792</td>\n",
       "      <td>1.000000</td>\n",
       "      <td>38.434665</td>\n",
       "      <td>5.806179</td>\n",
       "      <td>223.158529</td>\n",
       "    </tr>\n",
       "    <tr>\n",
       "      <th>3</th>\n",
       "      <td>4</td>\n",
       "      <td>1</td>\n",
       "      <td>4</td>\n",
       "      <td>1</td>\n",
       "      <td>1</td>\n",
       "      <td>100041</td>\n",
       "      <td>19</td>\n",
       "      <td>10</td>\n",
       "      <td>11012010</td>\n",
       "      <td>11</td>\n",
       "      <td>...</td>\n",
       "      <td>NaN</td>\n",
       "      <td>jefferson</td>\n",
       "      <td>3.351137e+06</td>\n",
       "      <td>931.521484</td>\n",
       "      <td>0.883034</td>\n",
       "      <td>822.564903</td>\n",
       "      <td>1.000000</td>\n",
       "      <td>94.476411</td>\n",
       "      <td>5.270595</td>\n",
       "      <td>497.946881</td>\n",
       "    </tr>\n",
       "    <tr>\n",
       "      <th>4</th>\n",
       "      <td>5</td>\n",
       "      <td>1</td>\n",
       "      <td>13</td>\n",
       "      <td>1</td>\n",
       "      <td>1</td>\n",
       "      <td>120172</td>\n",
       "      <td>28</td>\n",
       "      <td>12</td>\n",
       "      <td>12302010</td>\n",
       "      <td>12</td>\n",
       "      <td>...</td>\n",
       "      <td>NaN</td>\n",
       "      <td>lauderdale</td>\n",
       "      <td>3.351137e+06</td>\n",
       "      <td>163.351001</td>\n",
       "      <td>0.702397</td>\n",
       "      <td>114.737225</td>\n",
       "      <td>1.000000</td>\n",
       "      <td>33.134644</td>\n",
       "      <td>5.473992</td>\n",
       "      <td>181.378775</td>\n",
       "    </tr>\n",
       "  </tbody>\n",
       "</table>\n",
       "<p>5 rows × 398 columns</p>\n",
       "</div>"
      ],
      "text/plain": [
       "   Unnamed: 0  x.state  x.geostr  x.denstr2  precall  repnum  repdepth  \\\n",
       "0           1        1         9          2        1  120127        25   \n",
       "1           2        1        13          1        1   10170        26   \n",
       "2           3        1        17          2        1   80197        23   \n",
       "3           4        1         4          1        1  100041        19   \n",
       "4           5        1        13          1        1  120172        28   \n",
       "\n",
       "   fmonth     idate  imonth     ...      x.aidtst2    cpcounty      x.itscf1  \\\n",
       "0      12  12302010      12     ...            NaN     CLARKE3  3.351137e+06   \n",
       "1       1   2022010       2     ...            NaN     colbert  3.351137e+06   \n",
       "2       8   8182010       8     ...            NaN    housaton  3.351137e+06   \n",
       "3      10  11012010      11     ...            NaN   jefferson  3.351137e+06   \n",
       "4      12  12302010      12     ...            NaN  lauderdale  3.351137e+06   \n",
       "\n",
       "     x.itscf2  x.itspost   x.itsfinl   x.rawhh    x.wt2hh  x.posthh  \\\n",
       "0   88.799712   0.547504   48.618238  0.333333  18.012420  5.472875   \n",
       "1  326.702003   0.745529  243.565788  1.000000  33.134644  5.473992   \n",
       "2  189.479657   1.242380  235.405792  1.000000  38.434665  5.806179   \n",
       "3  931.521484   0.883034  822.564903  1.000000  94.476411  5.270595   \n",
       "4  163.351001   0.702397  114.737225  1.000000  33.134644  5.473992   \n",
       "\n",
       "    x.housewt  \n",
       "0   98.579718  \n",
       "1  181.378775  \n",
       "2  223.158529  \n",
       "3  497.946881  \n",
       "4  181.378775  \n",
       "\n",
       "[5 rows x 398 columns]"
      ]
     },
     "execution_count": 85,
     "metadata": {},
     "output_type": "execute_result"
    }
   ],
   "source": [
    "smoke10.head()"
   ]
  },
  {
   "cell_type": "code",
   "execution_count": 107,
   "metadata": {
    "scrolled": true
   },
   "outputs": [
    {
     "name": "stderr",
     "output_type": "stream",
     "text": [
      "/Users/A123/anaconda3/lib/python3.6/site-packages/ipykernel_launcher.py:1: FutureWarning: Method .as_matrix will be removed in a future version. Use .values instead.\n",
      "  \"\"\"Entry point for launching an IPython kernel.\n"
     ]
    }
   ],
   "source": [
    "ytrue = smoke10['x.rfsmok3'].as_matrix(columns=None).astype(int)\n",
    "ytrue = np.transpose([ytrue])\n",
    "ytrue = np.random.choice(ytrue[:size, 0], size=size, replace=True, p=None)"
   ]
  },
  {
   "cell_type": "markdown",
   "metadata": {},
   "source": [
    "### Compare the predict data and the true data:"
   ]
  },
  {
   "cell_type": "code",
   "execution_count": 116,
   "metadata": {},
   "outputs": [
    {
     "data": {
      "text/plain": [
       "array([1, 2, 1, ..., 1, 2, 1])"
      ]
     },
     "execution_count": 116,
     "metadata": {},
     "output_type": "execute_result"
    }
   ],
   "source": [
    "ytest"
   ]
  },
  {
   "cell_type": "code",
   "execution_count": 115,
   "metadata": {},
   "outputs": [
    {
     "data": {
      "text/plain": [
       "array([2, 1, 1, ..., 1, 2, 1])"
      ]
     },
     "execution_count": 115,
     "metadata": {},
     "output_type": "execute_result"
    }
   ],
   "source": [
    "ytrue"
   ]
  },
  {
   "cell_type": "code",
   "execution_count": 123,
   "metadata": {},
   "outputs": [
    {
     "name": "stdout",
     "output_type": "stream",
     "text": [
      "The confusion matrix is:\n",
      "╒═══╤════════╤═══════╕\n",
      "│   │   1    │   2   │\n",
      "├───┼────────┼───────┤\n",
      "│ 1 │ 217758 │ 32332 │\n",
      "├───┼────────┼───────┤\n",
      "│ 2 │ 41234  │ 6277  │\n",
      "╘═══╧════════╧═══════╛\n",
      "\n",
      "The True Positive Rate is 0.16257867336631354\n",
      "The False Positive Rate is 0.15920955087415828\n",
      "The Accuracy Rate is 0.7528032499890793\n",
      "The Mean Squared Error is 0.7407066666666666\n"
     ]
    }
   ],
   "source": [
    "cm = confusion_matrix(ytest, ytrue)\n",
    "MSE = mean_squared_error(ytest, ytrue)\n",
    "TN, FP, FN, TP = cm[0][0], cm[0][1], cm[1][0], cm[1][1]\n",
    "TPR = TP / (TP + FN)\n",
    "FPR = FP / (TN + FP)\n",
    "ACC = (TN + TP) / (TN + FP + FN + TP)\n",
    "\n",
    "table = [[\" \",\"1\", \"2\"],[\"1\", TN, FN],[\"2\", FP, TP]]\n",
    "print(\"The confusion matrix is:\")\n",
    "#print(table)\n",
    "print(tabulate(table, tablefmt=\"fancy_grid\", numalign = \"center\"))\n",
    "print()\n",
    "print(\"The True Positive Rate is\", TPR) \n",
    "print(\"The False Positive Rate is\", FPR)\n",
    "print(\"The Accuracy Rate is\", ACC)\n",
    "print(\"The Mean Squared Error is\", MSE)"
   ]
  },
  {
   "cell_type": "code",
   "execution_count": null,
   "metadata": {},
   "outputs": [],
   "source": []
  }
 ],
 "metadata": {
  "kernelspec": {
   "display_name": "Python 3",
   "language": "python",
   "name": "python3"
  },
  "language_info": {
   "codemirror_mode": {
    "name": "ipython",
    "version": 3
   },
   "file_extension": ".py",
   "mimetype": "text/x-python",
   "name": "python",
   "nbconvert_exporter": "python",
   "pygments_lexer": "ipython3",
   "version": "3.6.5"
  }
 },
 "nbformat": 4,
 "nbformat_minor": 2
}
